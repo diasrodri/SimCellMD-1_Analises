{
 "cells": [
  {
   "cell_type": "code",
   "execution_count": 1,
   "metadata": {},
   "outputs": [],
   "source": [
    "import matplotlib.pyplot as plt\n",
    "import numpy as np\n",
    "import pandas as pd\n",
    "from os import walk\n",
    "import seaborn as sns\n",
    "import json"
   ]
  },
  {
   "cell_type": "code",
   "execution_count": 2,
   "metadata": {},
   "outputs": [
    {
     "name": "stdout",
     "output_type": "stream",
     "text": [
      "['epi03_03/R03']\n",
      "1\n"
     ]
    }
   ],
   "source": [
    "epi_path=[\"epi03_03\",\"epi03_3\",\"epi03_15\",\"epi03_30\"]\n",
    "raio_path=[\"R03\",\"R04\",\"R05\",\"R06\"]\n",
    "\n",
    "epi_path=[\"epi03_03\"]\n",
    "raio_path=[\"R03\"]\n",
    "\n",
    "\n",
    "mypath=[]\n",
    "\n",
    "for i in epi_path:\n",
    "    for j in raio_path:\n",
    "        mypath.append(i+\"/\"+j)\n",
    "\n",
    "print(mypath)\n",
    "nsim=len(mypath)\n",
    "print(nsim)\n"
   ]
  },
  {
   "cell_type": "code",
   "execution_count": 3,
   "metadata": {},
   "outputs": [],
   "source": [
    "dirnames1=[]\n",
    "for paths in mypath:\n",
    "    for (dirpath, dirnames, filenames) in walk(paths):\n",
    "#        filenamesdata.extend(filenames)\n",
    "        for kk in dirnames:\n",
    "            if(dirnames!=\"__pycache__\"):\n",
    "                dirnames1.append(dirpath+\"/\"+kk+\"/data\")\n",
    "        break\n",
    "\n",
    "#print(dirnames1)\n",
    "\n",
    "filenamesdata = []\n",
    "filenamesdataxyz = []\n",
    "\n",
    "for paths in dirnames1:\n",
    "    for (dirpath, dirnames, filenames) in walk(paths):\n",
    "#        filenamesdata.extend(filenames)\n",
    "#        print(filenames)\n",
    "        match=[paths+\"/\"+s for s in filenames if \"data-tempo-\" in s]\n",
    "        matchxyz=[paths+\"/\"+s for s in filenames if \"Evol_Rcell_\" in s]\n",
    "        filenamesdata.append(match[0])\n",
    "        filenamesdataxyz.append(matchxyz[0])\n",
    "       \n",
    "        break\n",
    "\n"
   ]
  },
  {
   "cell_type": "code",
   "execution_count": 4,
   "metadata": {},
   "outputs": [
    {
     "name": "stdout",
     "output_type": "stream",
     "text": [
      "epi03_03/R03/2021_05_18-02_37_35_/SimIniPar.json\n",
      "['epi03_03/R03/2021_05_18-02_37_35_/data/Evol_Rcell_16.0epi03_0.3.xyz']\n",
      "2021_05_18-02_37_35_.html  data  images  SimIniPar.json\r\n"
     ]
    }
   ],
   "source": [
    "#\"SimIniPar.json\"\n",
    "filepath=str(filenamesdataxyz[0:1]).split(\"data\")\n",
    "namejson=filepath[0][2:]+str(\"SimIniPar.json\")\n",
    "print(namejson)\n",
    "\n",
    "with open(namejson) as f:  \n",
    "    data = json.load(f)\n",
    "    dfjson=pd.DataFrame(data)\n",
    "\n",
    "print(str(filenamesdataxyz[0:1]))\n",
    "!ls epi03_03/R03/2021_05_18-02_37_35_\n",
    "#filedatajson=open(namejson,'r')\n",
    "#filedatajson.close()"
   ]
  },
  {
   "cell_type": "code",
   "execution_count": 5,
   "metadata": {},
   "outputs": [
    {
     "name": "stdout",
     "output_type": "stream",
     "text": [
      "Cell\n"
     ]
    }
   ],
   "source": [
    "dfjson.head(50)\n",
    "\n",
    "for key, value in data.items():\n",
    "    print(key)"
   ]
  },
  {
   "cell_type": "code",
   "execution_count": 6,
   "metadata": {},
   "outputs": [
    {
     "name": "stdout",
     "output_type": "stream",
     "text": [
      "SimulName 0\n",
      "a0 1\n",
      "dt 2\n",
      "Rcell 3\n",
      "Rnuc 4\n",
      "rc1 5\n",
      "rc2 6\n",
      "raiocorte 7\n",
      "Npa 8\n",
      "ListTipos 9\n",
      "CombTipos 10\n",
      "kmolaang 11\n",
      "sigij 12\n",
      "epiij 13\n",
      "kfene 14\n",
      "rfene 15\n",
      "drfene 16\n",
      "pos 17\n",
      "vel 18\n",
      "massa 19\n",
      "tipo 20\n"
     ]
    }
   ],
   "source": [
    "Nele=len(data['Cell'])\n",
    "json_encode=[]\n",
    "for i in range(Nele):\n",
    "    data2=data['Cell'][i]\n",
    "    json_encode.append( str(data2.keys())[12:-3])\n",
    "    print(str(data2.keys())[12:-3],i)"
   ]
  },
  {
   "cell_type": "code",
   "execution_count": 7,
   "metadata": {},
   "outputs": [
    {
     "name": "stdout",
     "output_type": "stream",
     "text": [
      "['SimulName', 'a0', 'dt', 'Rcell', 'Rnuc', 'rc1', 'rc2', 'raiocorte', 'Npa', 'ListTipos', 'CombTipos', 'kmolaang', 'sigij', 'epiij', 'kfene', 'rfene', 'drfene', 'pos', 'vel', 'massa', 'tipo']\n",
      "epiij = 0.3\n"
     ]
    }
   ],
   "source": [
    "print(json_encode)\n",
    "\n",
    "select=json_encode[13]\n",
    "\n",
    "for i in range(len(json_encode)):\n",
    "    if (json_encode[i]==select):\n",
    "        infor=data['Cell'][i].get(select)\n",
    "        print(select , '=', infor[3])\n"
   ]
  },
  {
   "cell_type": "code",
   "execution_count": null,
   "metadata": {},
   "outputs": [],
   "source": []
  },
  {
   "cell_type": "code",
   "execution_count": null,
   "metadata": {},
   "outputs": [],
   "source": []
  },
  {
   "cell_type": "code",
   "execution_count": null,
   "metadata": {},
   "outputs": [],
   "source": []
  },
  {
   "cell_type": "code",
   "execution_count": 19,
   "metadata": {},
   "outputs": [
    {
     "name": "stdout",
     "output_type": "stream",
     "text": [
      "epi03_03/R03/2021_05_18-02_37_35_/data/Evol_Rcell_16.0epi03_0.3.xyz\n",
      "epi03_03/R03/2021_05_18-01_12_46_/data/Evol_Rcell_16.0epi03_0.3.xyz\n",
      "epi03_03/R03/2021_05_18-08_16_42_/data/Evol_Rcell_16.0epi03_0.3.xyz\n",
      "epi03_03/R03/2021_05_18-11_46_44_/data/Evol_Rcell_16.0epi03_0.3.xyz\n",
      "epi03_03/R03/2021_05_18-08_55_09_/data/Evol_Rcell_16.0epi03_0.3.xyz\n",
      "epi03_03/R03/2021_05_18-09_37_27_/data/Evol_Rcell_16.0epi03_0.3.xyz\n",
      "epi03_03/R03/2021_05_18-10_21_00_/data/Evol_Rcell_16.0epi03_0.3.xyz\n",
      "epi03_03/R03/2021_05_18-11_04_11_/data/Evol_Rcell_16.0epi03_0.3.xyz\n",
      "epi03_03/R03/2021_05_18-12_29_44_/data/Evol_Rcell_16.0epi03_0.3.xyz\n",
      "epi03_03/R03/2021_05_18-01_55_19_/data/Evol_Rcell_16.0epi03_0.3.xyz\n"
     ]
    }
   ],
   "source": [
    "for path in filenamesdataxyz:\n",
    "    print(path)"
   ]
  },
  {
   "cell_type": "code",
   "execution_count": 8,
   "metadata": {},
   "outputs": [
    {
     "name": "stdout",
     "output_type": "stream",
     "text": [
      "epi03_03/R03/2021_05_18-02_37_35_/data/Evol_Rcell_16.0epi03_0.3.xyz\n",
      "(572427, 3)\n",
      "()\n"
     ]
    }
   ],
   "source": [
    "label=[]\n",
    "cont=0\n",
    "\n",
    "df = pd.DataFrame(columns=['time','xcm','ycm','vxcm','vycm','epi03','R'])\n",
    "\n",
    "for name in filenamesdataxyz[0:1]:\n",
    "    print(name)\n",
    "    namesplited=name.split('/')\n",
    "    cont+=1\n",
    "    \n",
    "    filedata=open(name,'r')\n",
    "    \n",
    "    time=[]\n",
    "    xcm=[]\n",
    "    ycm=[]\n",
    "    vxcm=[]\n",
    "    vycm=[]\n",
    "    \n",
    "    Pos=[]\n",
    "    Vel=[]\n",
    "    tipo=[]    \n",
    "    cont=0\n",
    "\n",
    "    label.append(name)\n",
    "    for line in filedata:\n",
    "        line1=line.replace(\"\\n\",\"\")\n",
    "        line1=line1.split(\" \")\n",
    "        line1 = [x for x in line1 if x != '']\n",
    "\n",
    "        LenArray=len(line1)\n",
    "        \n",
    "        if ( LenArray==1 ):\n",
    "            if (cont==0) :\n",
    "                NumPar=np.int(line1[0])\n",
    "#                print(cont,\"Numpar\",NumPar)\n",
    "            elif (cont==1) :\n",
    "                Tempo=np.float(line1[0])\n",
    "                time.append(Tempo)\n",
    "#                print(cont,\"Tempo\",Tempo)\n",
    "            cont+=1 \n",
    "        else: \n",
    "#            print(cont,LenArray,NumPar)\n",
    "            tipo.append(line1[0])\n",
    "            Pos.append( [ np.float(line1[1]),np.float(line1[2]),np.float(line1[3]) ] ) \n",
    "            Vel.append( [ np.float(line1[4]),np.float(line1[5]),np.float(line1[6]) ] )\n",
    "            cont+=1\n",
    "        if (cont%(NumPar+2)==0):\n",
    "#            print(np.shape(Pos))\n",
    "#            CompGlobal.append([Pos,Vel,tipo])\n",
    "#            xcm.append( np.mean(Pos,axis=0)[0]  )\n",
    "#            ycm.append( np.mean(Pos,axis=0)[1]  )\n",
    "#            vxcm.append( np.mean(Vel,axis=0)[0]  )\n",
    "#            vycm.append( np.mean(Vel,axis=0)[1]  )\n",
    "            \n",
    "#            xicm=np.mean(Pos,axis=0)[0]\n",
    "#            yicm=np.mean(Pos,axis=0)[1]\n",
    "#            vxicm=np.mean(Vel,axis=0)[0]\n",
    "#            vyicm=np.mean(Vel,axis=0)[1]\n",
    "\n",
    "#            dictionary={'time': Tempo,'xcm': xicm ,'ycm': yicm, 'vxcm': vxicm ,'vycm': vyicm, 'epi03': namesplited[0][6:],'R': namesplited[1][1:]}\n",
    "#            df = df.append(dictionary, ignore_index=True)\n",
    "#            print( Tempo, np.mean(Pos,axis=0)[0] )\n",
    "#            Pos=[]\n",
    "#            Vel=[]\n",
    "#            tipo=[]\n",
    "            cont=0\n",
    "            \n",
    "    print(np.shape(Pos))\n",
    "    print(np.shape(time[0]))\n",
    "\n",
    "    Pos=np.asarray(Pos)\n",
    "    time=np.asarray(time)\n",
    "    \n"
   ]
  },
  {
   "cell_type": "code",
   "execution_count": 9,
   "metadata": {},
   "outputs": [
    {
     "name": "stdout",
     "output_type": "stream",
     "text": [
      "(572427, 3)\n"
     ]
    }
   ],
   "source": [
    "print(np.shape(Pos))\n"
   ]
  },
  {
   "cell_type": "code",
   "execution_count": 17,
   "metadata": {},
   "outputs": [
    {
     "data": {
      "image/png": "[encoded data removed]",
      "text/plain": [
       "<Figure size 432x288 with 1 Axes>"
      ]
     },
     "metadata": {
      "needs_background": "light"
     },
     "output_type": "display_data"
    },
    {
     "data": {
      "image/png": "[encoded data removed]",
      "text/plain": [
       "<Figure size 432x288 with 1 Axes>"
      ]
     },
     "metadata": {
      "needs_background": "light"
     },
     "output_type": "display_data"
    },
    {
     "data": {
      "image/png": "[encoded data removed]",
      "text/plain": [
       "<Figure size 432x288 with 1 Axes>"
      ]
     },
     "metadata": {
      "needs_background": "light"
     },
     "output_type": "display_data"
    },
    {
     "data": {
      "image/png": "[encoded data removed]",
      "text/plain": [
       "<Figure size 432x288 with 1 Axes>"
      ]
     },
     "metadata": {
      "needs_background": "light"
     },
     "output_type": "display_data"
    }
   ],
   "source": [
    "#calcula xcm,ycm,vxcm,vycm\n",
    "Ntemp=len(time)\n",
    "xcm=[]\n",
    "ycm=[]\n",
    "vxcm=[]\n",
    "vycm=[]\n",
    "for ii in range(0,Ntemp):          \n",
    "    xi=0.0\n",
    "    yi=0.0\n",
    "    vxi=0.0\n",
    "    vyi=0.0\n",
    "    for j in range(0,NumPar):\n",
    "        ti=ii*NumPar+j\n",
    "        xi+=Pos[ti][0]\n",
    "        yi+=Pos[ti][1]\n",
    "        vxi+=Vel[ti][0]\n",
    "        vyi+=Vel[ti][1]\n",
    "    xcm.append(xi/NumPar)\n",
    "    ycm.append(yi/NumPar)\n",
    "    vxcm.append(vxi/NumPar)\n",
    "    vycm.append(vyi/NumPar)\n",
    "\n",
    "plt.plot(time,xcm,'r-')\n",
    "plt.show()\n",
    "plt.plot(time,ycm,'r-')\n",
    "plt.show()\n",
    "plt.plot(time,vxcm,'r-')\n",
    "plt.show()\n",
    "plt.plot(time,vycm,'r-')\n",
    "plt.show()\n",
    "\n",
    "#            print(np.shape(Pos))\n",
    "#            CompGlobal.append([Pos,Vel,tipo])\n",
    "#            xcm.append( np.mean(Pos,axis=0)[0]  )\n",
    "#            ycm.append( np.mean(Pos,axis=0)[1]  )\n",
    "#            vxcm.append( np.mean(Vel,axis=0)[0]  )\n",
    "#            vycm.append( np.mean(Vel,axis=0)[1]  )\n",
    "            \n",
    "#            xicm=np.mean(Pos,axis=0)[0]\n",
    "#            yicm=np.mean(Pos,axis=0)[1]\n",
    "#            vxicm=np.mean(Vel,axis=0)[0]\n",
    "#            vyicm=np.mean(Vel,axis=0)[1]\n",
    "\n",
    "#            dictionary={'time': Tempo,'xcm': xicm ,'ycm': yicm, 'vxcm': vxicm ,'vycm': vyicm, 'epi03': namesplited[0][6:],'R': namesplited[1][1:]}\n",
    "#            df = df.append(dictionary, ignore_index=True)\n",
    "#            print( Tempo, np.mean(Pos,axis=0)[0] )\n",
    "#            Pos=[]\n",
    "#            Vel=[]\n",
    "#            tipo=[]"
   ]
  },
  {
   "cell_type": "code",
   "execution_count": 11,
   "metadata": {},
   "outputs": [
    {
     "name": "stdout",
     "output_type": "stream",
     "text": [
      "999\n",
      "ok\n"
     ]
    },
    {
     "name": "stderr",
     "output_type": "stream",
     "text": [
      "/home/radias-s20/.local/lib/python3.8/site-packages/numpy/core/_asarray.py:83: VisibleDeprecationWarning: Creating an ndarray from ragged nested sequences (which is a list-or-tuple of lists-or-tuples-or ndarrays with different lengths or shapes) is deprecated. If you meant to do this, you must specify 'dtype=object' when creating the ndarray\n",
      "  return array(a, dtype, copy=False, order=order)\n"
     ]
    }
   ],
   "source": [
    "dr2ListSe=[]\n",
    "dr2ListMo=[]\n",
    "dr2ListAl=[]\n",
    "dr2ListSi=[]\n",
    "    \n",
    "Ntemp=len(time)\n",
    "print(Ntemp)\n",
    "for i in range(1,int(Ntemp/2)):\n",
    "    dr2Se=[]\n",
    "    dr2Mo=[]\n",
    "    dr2Al=[]\n",
    "    dr2Si=[]\n",
    "        \n",
    "#    if (i%100==0):\n",
    "#        print(i)\n",
    "\n",
    "    for ii in range(200,Ntemp-i):          \n",
    "#        print(i,ii)\n",
    "        for j in range(0,NumPar):\n",
    "            if (tipo[i*NumPar+j]=='Se'):\n",
    "                tf=(i+ii)*NumPar+j\n",
    "                ti=ii*NumPar+j\n",
    "#                print(tf,ti,tf-ti)\n",
    "                dx=Pos[tf][0]-Pos[ti][0]\n",
    "                dy=Pos[tf][1]-Pos[ti][1]\n",
    "                dr2Se.append([dx,dy])\n",
    "            \n",
    "            if (tipo[i*NumPar+j]=='Mo'):\n",
    "                tf=(i+ii)*NumPar+j\n",
    "                ti=ii*NumPar+j\n",
    "#                print(tf,ti,tf-ti)\n",
    "                dx=Pos[tf][0]-Pos[ti][0]\n",
    "                dy=Pos[tf][1]-Pos[ti][1]\n",
    "                dr2Mo.append([dx,dy])\n",
    "            \n",
    "            if (tipo[i*NumPar+j]=='Al'):\n",
    "                tf=(i+ii)*NumPar+j\n",
    "                ti=ii*NumPar+j\n",
    "#                print(tf,ti,tf-ti)\n",
    "                dx=Pos[tf][0]-Pos[ti][0]\n",
    "                dy=Pos[tf][1]-Pos[ti][1]\n",
    "                dr2Al.append([dx,dy])\n",
    "            \n",
    "            if (tipo[i*NumPar+j]=='Si'):\n",
    "                tf=(i+ii)*NumPar+j\n",
    "                ti=ii*NumPar+j\n",
    "#                print(tf,ti,tf-ti)\n",
    "                dx=Pos[tf][0]-Pos[ti][0]\n",
    "                dy=Pos[tf][1]-Pos[ti][1]\n",
    "                dr2Si.append([dx,dy])\n",
    "            \n",
    "#    print(dr2Se[0:20])\n",
    "    dr2ListSe.append(np.asarray(dr2Se))\n",
    "    dr2ListMo.append(np.asarray(dr2Mo))\n",
    "    dr2ListAl.append(np.asarray(dr2Al))\n",
    "    dr2ListSi.append(np.asarray(dr2Si))\n",
    "    \n",
    "dr2ListSe=np.asarray(dr2ListSe)\n",
    "dr2ListMo=np.asarray(dr2ListMo)\n",
    "dr2ListAl=np.asarray(dr2ListAl)\n",
    "dr2ListSi=np.asarray(dr2ListSi)\n",
    "\n",
    "print('ok')\n"
   ]
  },
  {
   "cell_type": "code",
   "execution_count": 12,
   "metadata": {},
   "outputs": [
    {
     "name": "stdout",
     "output_type": "stream",
     "text": [
      "160398\n",
      "<class 'numpy.ndarray'>\n",
      "[[ 0.27662994 -0.67233548]\n",
      " [ 0.54669706 -0.96690457]\n",
      " [ 0.70180438 -0.79665441]\n",
      " ...\n",
      " [ 0.22623384 -0.13541651]\n",
      " [ 0.22995588 -0.20886044]\n",
      " [ 0.23680959 -0.21461748]]\n",
      "[0.27662994 0.54669706 0.70180438 ... 0.22623384 0.22995588 0.23680959]\n",
      "[-0.67233548 -0.96690457 -0.79665441 ... -0.13541651 -0.20886044\n",
      " -0.21461748]\n"
     ]
    },
    {
     "data": {
      "image/png": "[encoded data removed]",
      "text/plain": [
       "<Figure size 432x288 with 1 Axes>"
      ]
     },
     "metadata": {
      "needs_background": "light"
     },
     "output_type": "display_data"
    },
    {
     "data": {
      "image/png": "[encoded data removed]",
      "text/plain": [
       "<Figure size 432x288 with 1 Axes>"
      ]
     },
     "metadata": {
      "needs_background": "light"
     },
     "output_type": "display_data"
    },
    {
     "data": {
      "image/png": "[encoded data removed]",
      "text/plain": [
       "<Figure size 432x288 with 1 Axes>"
      ]
     },
     "metadata": {
      "needs_background": "light"
     },
     "output_type": "display_data"
    }
   ],
   "source": [
    "print(len(dr2ListSe[0]))\n",
    "print(type(dr2ListSe[0]))\n",
    "print(dr2ListSe[0][:])\n",
    "print(dr2ListSe[0][:,0])\n",
    "print(dr2ListSe[0][:,1])\n",
    "\n",
    "for jj in range(0,int(Ntemp/2)-1):\n",
    "    x=dr2ListSe[jj][:,0]\n",
    "    # the histogram of the data\n",
    "    n, bins, patches = plt.hist(x, 100, density=True, histtype='step', label='t='+str(jj+1))\n",
    "    \n",
    "#    plt.legend(loc='upper left')\n",
    "\n",
    "    plt.xlabel('$\\Delta x$')\n",
    "    plt.ylabel('Prob($\\Delta x$)')\n",
    "    plt.title('Probabitity($\\Delta x,t$) ')\n",
    "    #plt.text(60, .025, r'$\\mu=100,\\ \\sigma=15$')\n",
    "    #plt.xlim(40, 160)\n",
    "    #plt.ylim(0, 0.03)\n",
    "    plt.grid(True)\n",
    "    \n",
    "plt.show()\n",
    "\n",
    "\n",
    "\n",
    "for jj in range(0,int(Ntemp/2)-1):\n",
    "    x=dr2ListSe[jj][:,1]\n",
    "    # the histogram of the data\n",
    "    n, bins, patches = plt.hist(x, 100, density=True,histtype='step', label='t='+str(jj+1))\n",
    "    \n",
    "#    plt.legend(loc='upper left')\n",
    "\n",
    "    plt.xlabel('$\\Delta y$')\n",
    "    plt.ylabel('Prob($\\Delta y$)')\n",
    "    plt.title('Probabitity($\\Delta x,t$) ')\n",
    "    #plt.text(60, .025, r'$\\mu=100,\\ \\sigma=15$')\n",
    "    #plt.xlim(40, 160)\n",
    "    #plt.ylim(0, 0.03)\n",
    "    plt.grid(True)\n",
    "    \n",
    "plt.show()\n",
    "\n",
    "\n",
    "for jj in range(0,int(Ntemp/2)-1):\n",
    "    x=dr2ListSe[jj][:,0]**2+dr2ListSe[jj][:,1]**2\n",
    "    # the histogram of the data\n",
    "    n, bins, patches = plt.hist(x, 100, density=True,histtype='step', label='t='+str(jj+1))\n",
    "    \n",
    "#    plt.legend(loc='upper left')\n",
    "\n",
    "    plt.xlabel('$\\Delta r$')\n",
    "    plt.ylabel('Prob($\\Delta r$)')\n",
    "    plt.title('Probabitity($\\Delta x,t$) ')\n",
    "    #plt.text(60, .025, r'$\\mu=100,\\ \\sigma=15$')\n",
    "    #plt.xlim(40, 160)\n",
    "    #plt.ylim(0, 0.03)\n",
    "    plt.grid(True)\n",
    "    \n",
    "plt.show()"
   ]
  },
  {
   "cell_type": "code",
   "execution_count": 14,
   "metadata": {},
   "outputs": [
    {
     "name": "stderr",
     "output_type": "stream",
     "text": [
      "<ipython-input-14-c0436891bf75>:6: RuntimeWarning: divide by zero encountered in log\n",
      "  x=np.log(np.asarray(x))\n"
     ]
    },
    {
     "data": {
      "text/plain": [
       "[<matplotlib.lines.Line2D at 0x7fd6bda4c310>]"
      ]
     },
     "execution_count": 14,
     "metadata": {},
     "output_type": "execute_result"
    },
    {
     "data": {
      "image/png": "[encoded data removed]",
      "text/plain": [
       "<Figure size 432x288 with 1 Axes>"
      ]
     },
     "metadata": {
      "needs_background": "light"
     },
     "output_type": "display_data"
    }
   ],
   "source": [
    "x=[]\n",
    "y=[]\n",
    "for jj in range(0,int(Ntemp/2)-1):\n",
    "    y.append(np.sum(dr2ListSe[jj][:,0]**2+dr2ListSe[jj][:,1]**2)/len(dr2ListSe[jj][:,0]))\n",
    "    x.append(jj)\n",
    "x=np.ln(np.asarray(x))\n",
    "y=np.ln(np.asarray(y))\n",
    "\n",
    "#print(x,y)\n",
    "plt.plot(x,y)\n",
    "\n",
    "#plt.hist(x, 100, density=True,histtype='step', label='t='+str(jj+1))\n",
    "    \n",
    "#plt.legend(loc='upper left')\n",
    "#plt.xlabel('$\\Delta r$')\n",
    "#plt.ylabel('Prob($\\Delta r$)')\n",
    "#plt.title('Probabitity($\\Delta x,t$) ')\n",
    "#plt.text(60, .025, r'$\\mu=100,\\ \\sigma=15$')\n",
    "#plt.xlim(40, 160)\n",
    "#plt.ylim(0, 0.03)\n",
    "#plt.grid(True)\n",
    "    \n",
    "#plt.show()"
   ]
  },
  {
   "cell_type": "code",
   "execution_count": null,
   "metadata": {},
   "outputs": [],
   "source": []
  },
  {
   "cell_type": "code",
   "execution_count": null,
   "metadata": {},
   "outputs": [],
   "source": [
    "plt.plot(time[1:700],dr2ListSe[1:700]/(4*time[1:700]),'r-', label='0-Membrana')\n",
    "plt.legend(loc='lower right')\n",
    "plt.show()\n"
   ]
  },
  {
   "cell_type": "code",
   "execution_count": null,
   "metadata": {},
   "outputs": [],
   "source": []
  },
  {
   "cell_type": "code",
   "execution_count": null,
   "metadata": {},
   "outputs": [],
   "source": [
    "df.head()"
   ]
  },
  {
   "cell_type": "code",
   "execution_count": null,
   "metadata": {},
   "outputs": [],
   "source": []
  },
  {
   "cell_type": "code",
   "execution_count": null,
   "metadata": {},
   "outputs": [],
   "source": []
  }
 ],
 "metadata": {
  "kernelspec": {
   "display_name": "Python 3",
   "language": "python",
   "name": "python3"
  },
  "language_info": {
   "codemirror_mode": {
    "name": "ipython",
    "version": 3
   },
   "file_extension": ".py",
   "mimetype": "text/x-python",
   "name": "python",
   "nbconvert_exporter": "python",
   "pygments_lexer": "ipython3",
   "version": "3.8.10"
  }
 },
 "nbformat": 4,
 "nbformat_minor": 4
}
